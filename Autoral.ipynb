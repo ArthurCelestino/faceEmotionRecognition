{
 "cells": [
  {
   "cell_type": "code",
   "execution_count": 38,
   "metadata": {},
   "outputs": [],
   "source": [
    "import os\n",
    "import pandas as pd\n",
    "from keras.layers import Rescaling  # Camada de escalonamento\n",
    "from keras.optimizers import Adam  # optimizador Adam\n",
    "# Classe utilizada para acompanhamento durante o treinamento onde definimos os atributos que serão considerados para avaliação\n",
    "from keras.callbacks import ModelCheckpoint\n",
    "import tensorflow as tf\n",
    "from tensorflow.data import AUTOTUNE\n",
    "# Função que carrega o dataset de um diretório\n",
    "from tensorflow.keras.utils import image_dataset_from_directory\n",
    "from tensorflow.keras.metrics import Recall, Precision\n",
    "import utils"
   ]
  },
  {
   "cell_type": "code",
   "execution_count": 39,
   "metadata": {},
   "outputs": [],
   "source": [
    "train_path = \"./../data/fer2013/train/\"\n",
    "validation_path = \"./../data/fer2013/test/\"\n",
    "models_path = \"./models\"\n",
    "\n",
    "width = 48  \n",
    "height = 48  \n",
    "depth = 1 \n",
    "\n",
    "epochs = 25\n",
    "init_lr = 1e-3\n",
    "batch_size = 32\n",
    "\n",
    "color_mode = \"grayscale\"\n",
    "\n",
    "input_shape = (height, width, depth)\n",
    "save_model = os.path.join(\n",
    "        models_path, \"lenet-{epoch:02d}-{accuracy:.3f}-{val_accuracy:.3f}.model\")"
   ]
  },
  {
   "cell_type": "code",
   "execution_count": 40,
   "metadata": {},
   "outputs": [
    {
     "name": "stdout",
     "output_type": "stream",
     "text": [
      "Found 28709 files belonging to 7 classes.\n",
      "Using 20097 files for training.\n",
      "Found 7178 files belonging to 7 classes.\n",
      "Using 2153 files for validation.\n"
     ]
    }
   ],
   "source": [
    "train_ds = image_dataset_from_directory(\n",
    "        train_path,\n",
    "        seed=123,\n",
    "        label_mode='categorical',\n",
    "        validation_split=0.3,\n",
    "        subset=\"training\",\n",
    "        color_mode=color_mode,\n",
    "        image_size=(height, width),\n",
    "        batch_size=batch_size\n",
    "    )\n",
    "\n",
    "val_ds = image_dataset_from_directory(\n",
    "    validation_path,\n",
    "    seed=123,\n",
    "    label_mode='categorical',\n",
    "    validation_split=0.3,\n",
    "    subset=\"validation\",\n",
    "    color_mode=color_mode,\n",
    "    image_size=(height, width),\n",
    "    batch_size=batch_size\n",
    ") "
   ]
  },
  {
   "cell_type": "code",
   "execution_count": 41,
   "metadata": {},
   "outputs": [],
   "source": [
    "rescaling_layer = Rescaling(1./255) ## normalizando os valores dos pixels\n",
    "# pré-busca em buffer para que se possa produzir dados do disco sem que a E/S se torne um bloqueio\n",
    "train_ds = train_ds.map(lambda x, y: (rescaling_layer(x), y), \n",
    "                        num_parallel_calls=AUTOTUNE)\n",
    "val_ds = val_ds.map(lambda x, y: (rescaling_layer(x), y),\n",
    "                    num_parallel_calls=AUTOTUNE)\n"
   ]
  },
  {
   "cell_type": "code",
   "execution_count": 42,
   "metadata": {},
   "outputs": [],
   "source": [
    "model = utils.create_model(input_shape=input_shape)"
   ]
  },
  {
   "cell_type": "code",
   "execution_count": 43,
   "metadata": {},
   "outputs": [
    {
     "name": "stderr",
     "output_type": "stream",
     "text": [
      "/home/elisaveloso/.local/lib/python3.10/site-packages/keras/optimizers/optimizer_v2/adam.py:117: UserWarning: The `lr` argument is deprecated, use `learning_rate` instead.\n",
      "  super().__init__(name, **kwargs)\n"
     ]
    }
   ],
   "source": [
    "opt = Adam(lr=init_lr, decay=init_lr / epochs)\n",
    "\n",
    "model.compile(loss=\"categorical_crossentropy\",\n",
    "                  optimizer=opt, metrics=[\"accuracy\", Precision()])"
   ]
  },
  {
   "cell_type": "code",
   "execution_count": 44,
   "metadata": {},
   "outputs": [
    {
     "name": "stdout",
     "output_type": "stream",
     "text": [
      "Model: \"sequential_2\"\n",
      "_________________________________________________________________\n",
      " Layer (type)                Output Shape              Param #   \n",
      "=================================================================\n",
      " conv2d_6 (Conv2D)           (None, 48, 48, 32)        320       \n",
      "                                                                 \n",
      " batch_normalization_2 (Batc  (None, 48, 48, 32)       128       \n",
      " hNormalization)                                                 \n",
      "                                                                 \n",
      " max_pooling2d_6 (MaxPooling  (None, 24, 24, 32)       0         \n",
      " 2D)                                                             \n",
      "                                                                 \n",
      " dropout_4 (Dropout)         (None, 24, 24, 32)        0         \n",
      "                                                                 \n",
      " conv2d_7 (Conv2D)           (None, 24, 24, 64)        18496     \n",
      "                                                                 \n",
      " activation_6 (Activation)   (None, 24, 24, 64)        0         \n",
      "                                                                 \n",
      " max_pooling2d_7 (MaxPooling  (None, 12, 12, 64)       0         \n",
      " 2D)                                                             \n",
      "                                                                 \n",
      " conv2d_8 (Conv2D)           (None, 12, 12, 128)       73856     \n",
      "                                                                 \n",
      " activation_7 (Activation)   (None, 12, 12, 128)       0         \n",
      "                                                                 \n",
      " max_pooling2d_8 (MaxPooling  (None, 6, 6, 128)        0         \n",
      " 2D)                                                             \n",
      "                                                                 \n",
      " flatten_4 (Flatten)         (None, 4608)              0         \n",
      "                                                                 \n",
      " dense_6 (Dense)             (None, 500)               2304500   \n",
      "                                                                 \n",
      " activation_8 (Activation)   (None, 500)               0         \n",
      "                                                                 \n",
      " flatten_5 (Flatten)         (None, 500)               0         \n",
      "                                                                 \n",
      " dense_7 (Dense)             (None, 512)               256512    \n",
      "                                                                 \n",
      " dropout_5 (Dropout)         (None, 512)               0         \n",
      "                                                                 \n",
      " dense_8 (Dense)             (None, 7)                 3591      \n",
      "                                                                 \n",
      "=================================================================\n",
      "Total params: 2,657,403\n",
      "Trainable params: 2,657,339\n",
      "Non-trainable params: 64\n",
      "_________________________________________________________________\n"
     ]
    }
   ],
   "source": [
    "model.summary()"
   ]
  },
  {
   "cell_type": "code",
   "execution_count": 45,
   "metadata": {},
   "outputs": [],
   "source": [
    "checkpoint1 = ModelCheckpoint(\n",
    "    save_model, monitor='val_loss', verbose=1, save_best_only=True, mode='min')\n",
    "checkpoint2 = ModelCheckpoint(\n",
    "    save_model, monitor='val_accuracy', verbose=1, save_best_only=True, mode='max')\n",
    "callbacks_list = [checkpoint1, checkpoint2]"
   ]
  },
  {
   "cell_type": "code",
   "execution_count": 46,
   "metadata": {},
   "outputs": [
    {
     "name": "stdout",
     "output_type": "stream",
     "text": [
      "Epoch 1/25\n",
      "628/629 [============================>.] - ETA: 0s - loss: 1.6589 - accuracy: 0.3356 - precision_3: 0.6828\n",
      "Epoch 1: val_loss improved from inf to 1.49767, saving model to ./models/lenet-01-0.336-0.425.model\n"
     ]
    },
    {
     "name": "stderr",
     "output_type": "stream",
     "text": [
      "WARNING:absl:Found untraced functions such as _jit_compiled_convolution_op, _jit_compiled_convolution_op, _jit_compiled_convolution_op while saving (showing 3 of 3). These functions will not be directly callable after loading.\n"
     ]
    },
    {
     "name": "stdout",
     "output_type": "stream",
     "text": [
      "INFO:tensorflow:Assets written to: ./models/lenet-01-0.336-0.425.model/assets\n"
     ]
    },
    {
     "name": "stderr",
     "output_type": "stream",
     "text": [
      "INFO:tensorflow:Assets written to: ./models/lenet-01-0.336-0.425.model/assets\n"
     ]
    },
    {
     "name": "stdout",
     "output_type": "stream",
     "text": [
      "\n",
      "Epoch 1: val_accuracy improved from -inf to 0.42499, saving model to ./models/lenet-01-0.336-0.425.model\n"
     ]
    },
    {
     "name": "stderr",
     "output_type": "stream",
     "text": [
      "WARNING:absl:Found untraced functions such as _jit_compiled_convolution_op, _jit_compiled_convolution_op, _jit_compiled_convolution_op while saving (showing 3 of 3). These functions will not be directly callable after loading.\n"
     ]
    },
    {
     "name": "stdout",
     "output_type": "stream",
     "text": [
      "INFO:tensorflow:Assets written to: ./models/lenet-01-0.336-0.425.model/assets\n"
     ]
    },
    {
     "name": "stderr",
     "output_type": "stream",
     "text": [
      "INFO:tensorflow:Assets written to: ./models/lenet-01-0.336-0.425.model/assets\n"
     ]
    },
    {
     "name": "stdout",
     "output_type": "stream",
     "text": [
      "629/629 [==============================] - 48s 75ms/step - loss: 1.6589 - accuracy: 0.3357 - precision_3: 0.6828 - val_loss: 1.4977 - val_accuracy: 0.4250 - val_precision_3: 0.7989\n",
      "Epoch 2/25\n",
      "628/629 [============================>.] - ETA: 0s - loss: 1.4149 - accuracy: 0.4526 - precision_3: 0.7331\n",
      "Epoch 2: val_loss improved from 1.49767 to 1.38805, saving model to ./models/lenet-02-0.453-0.477.model\n"
     ]
    },
    {
     "name": "stderr",
     "output_type": "stream",
     "text": [
      "WARNING:absl:Found untraced functions such as _jit_compiled_convolution_op, _jit_compiled_convolution_op, _jit_compiled_convolution_op while saving (showing 3 of 3). These functions will not be directly callable after loading.\n"
     ]
    },
    {
     "name": "stdout",
     "output_type": "stream",
     "text": [
      "INFO:tensorflow:Assets written to: ./models/lenet-02-0.453-0.477.model/assets\n"
     ]
    },
    {
     "name": "stderr",
     "output_type": "stream",
     "text": [
      "INFO:tensorflow:Assets written to: ./models/lenet-02-0.453-0.477.model/assets\n"
     ]
    },
    {
     "name": "stdout",
     "output_type": "stream",
     "text": [
      "\n",
      "Epoch 2: val_accuracy improved from 0.42499 to 0.47747, saving model to ./models/lenet-02-0.453-0.477.model\n"
     ]
    },
    {
     "name": "stderr",
     "output_type": "stream",
     "text": [
      "WARNING:absl:Found untraced functions such as _jit_compiled_convolution_op, _jit_compiled_convolution_op, _jit_compiled_convolution_op while saving (showing 3 of 3). These functions will not be directly callable after loading.\n"
     ]
    },
    {
     "name": "stdout",
     "output_type": "stream",
     "text": [
      "INFO:tensorflow:Assets written to: ./models/lenet-02-0.453-0.477.model/assets\n"
     ]
    },
    {
     "name": "stderr",
     "output_type": "stream",
     "text": [
      "INFO:tensorflow:Assets written to: ./models/lenet-02-0.453-0.477.model/assets\n"
     ]
    },
    {
     "name": "stdout",
     "output_type": "stream",
     "text": [
      "629/629 [==============================] - 60s 95ms/step - loss: 1.4149 - accuracy: 0.4526 - precision_3: 0.7331 - val_loss: 1.3881 - val_accuracy: 0.4775 - val_precision_3: 0.8448\n",
      "Epoch 3/25\n",
      "628/629 [============================>.] - ETA: 0s - loss: 1.2898 - accuracy: 0.5090 - precision_3: 0.7420\n",
      "Epoch 3: val_loss improved from 1.38805 to 1.31063, saving model to ./models/lenet-03-0.509-0.499.model\n"
     ]
    },
    {
     "name": "stderr",
     "output_type": "stream",
     "text": [
      "WARNING:absl:Found untraced functions such as _jit_compiled_convolution_op, _jit_compiled_convolution_op, _jit_compiled_convolution_op while saving (showing 3 of 3). These functions will not be directly callable after loading.\n"
     ]
    },
    {
     "name": "stdout",
     "output_type": "stream",
     "text": [
      "INFO:tensorflow:Assets written to: ./models/lenet-03-0.509-0.499.model/assets\n"
     ]
    },
    {
     "name": "stderr",
     "output_type": "stream",
     "text": [
      "INFO:tensorflow:Assets written to: ./models/lenet-03-0.509-0.499.model/assets\n"
     ]
    },
    {
     "name": "stdout",
     "output_type": "stream",
     "text": [
      "\n",
      "Epoch 3: val_accuracy improved from 0.47747 to 0.49884, saving model to ./models/lenet-03-0.509-0.499.model\n"
     ]
    },
    {
     "name": "stderr",
     "output_type": "stream",
     "text": [
      "WARNING:absl:Found untraced functions such as _jit_compiled_convolution_op, _jit_compiled_convolution_op, _jit_compiled_convolution_op while saving (showing 3 of 3). These functions will not be directly callable after loading.\n"
     ]
    },
    {
     "name": "stdout",
     "output_type": "stream",
     "text": [
      "INFO:tensorflow:Assets written to: ./models/lenet-03-0.509-0.499.model/assets\n"
     ]
    },
    {
     "name": "stderr",
     "output_type": "stream",
     "text": [
      "INFO:tensorflow:Assets written to: ./models/lenet-03-0.509-0.499.model/assets\n"
     ]
    },
    {
     "name": "stdout",
     "output_type": "stream",
     "text": [
      "629/629 [==============================] - 48s 76ms/step - loss: 1.2898 - accuracy: 0.5090 - precision_3: 0.7420 - val_loss: 1.3106 - val_accuracy: 0.4988 - val_precision_3: 0.8074\n",
      "Epoch 4/25\n",
      "628/629 [============================>.] - ETA: 0s - loss: 1.1872 - accuracy: 0.5495 - precision_3: 0.7508\n",
      "Epoch 4: val_loss improved from 1.31063 to 1.28057, saving model to ./models/lenet-04-0.549-0.507.model\n"
     ]
    },
    {
     "name": "stderr",
     "output_type": "stream",
     "text": [
      "WARNING:absl:Found untraced functions such as _jit_compiled_convolution_op, _jit_compiled_convolution_op, _jit_compiled_convolution_op while saving (showing 3 of 3). These functions will not be directly callable after loading.\n"
     ]
    },
    {
     "name": "stdout",
     "output_type": "stream",
     "text": [
      "INFO:tensorflow:Assets written to: ./models/lenet-04-0.549-0.507.model/assets\n"
     ]
    },
    {
     "name": "stderr",
     "output_type": "stream",
     "text": [
      "INFO:tensorflow:Assets written to: ./models/lenet-04-0.549-0.507.model/assets\n"
     ]
    },
    {
     "name": "stdout",
     "output_type": "stream",
     "text": [
      "\n",
      "Epoch 4: val_accuracy improved from 0.49884 to 0.50673, saving model to ./models/lenet-04-0.549-0.507.model\n"
     ]
    },
    {
     "name": "stderr",
     "output_type": "stream",
     "text": [
      "WARNING:absl:Found untraced functions such as _jit_compiled_convolution_op, _jit_compiled_convolution_op, _jit_compiled_convolution_op while saving (showing 3 of 3). These functions will not be directly callable after loading.\n"
     ]
    },
    {
     "name": "stdout",
     "output_type": "stream",
     "text": [
      "INFO:tensorflow:Assets written to: ./models/lenet-04-0.549-0.507.model/assets\n"
     ]
    },
    {
     "name": "stderr",
     "output_type": "stream",
     "text": [
      "INFO:tensorflow:Assets written to: ./models/lenet-04-0.549-0.507.model/assets\n"
     ]
    },
    {
     "name": "stdout",
     "output_type": "stream",
     "text": [
      "629/629 [==============================] - 48s 76ms/step - loss: 1.1872 - accuracy: 0.5495 - precision_3: 0.7508 - val_loss: 1.2806 - val_accuracy: 0.5067 - val_precision_3: 0.7158\n",
      "Epoch 5/25\n",
      "628/629 [============================>.] - ETA: 0s - loss: 1.0737 - accuracy: 0.5932 - precision_3: 0.7639\n",
      "Epoch 5: val_loss did not improve from 1.28057\n",
      "\n",
      "Epoch 5: val_accuracy improved from 0.50673 to 0.53553, saving model to ./models/lenet-05-0.593-0.536.model\n"
     ]
    },
    {
     "name": "stderr",
     "output_type": "stream",
     "text": [
      "WARNING:absl:Found untraced functions such as _jit_compiled_convolution_op, _jit_compiled_convolution_op, _jit_compiled_convolution_op while saving (showing 3 of 3). These functions will not be directly callable after loading.\n"
     ]
    },
    {
     "name": "stdout",
     "output_type": "stream",
     "text": [
      "INFO:tensorflow:Assets written to: ./models/lenet-05-0.593-0.536.model/assets\n"
     ]
    },
    {
     "name": "stderr",
     "output_type": "stream",
     "text": [
      "INFO:tensorflow:Assets written to: ./models/lenet-05-0.593-0.536.model/assets\n"
     ]
    },
    {
     "name": "stdout",
     "output_type": "stream",
     "text": [
      "629/629 [==============================] - 47s 75ms/step - loss: 1.0737 - accuracy: 0.5932 - precision_3: 0.7639 - val_loss: 1.3014 - val_accuracy: 0.5355 - val_precision_3: 0.6827\n",
      "Epoch 6/25\n",
      "628/629 [============================>.] - ETA: 0s - loss: 0.9566 - accuracy: 0.6418 - precision_3: 0.7812\n",
      "Epoch 6: val_loss did not improve from 1.28057\n",
      "\n",
      "Epoch 6: val_accuracy did not improve from 0.53553\n",
      "629/629 [==============================] - 58s 91ms/step - loss: 0.9567 - accuracy: 0.6418 - precision_3: 0.7812 - val_loss: 1.4413 - val_accuracy: 0.5123 - val_precision_3: 0.6241\n",
      "Epoch 7/25\n",
      "628/629 [============================>.] - ETA: 0s - loss: 0.8398 - accuracy: 0.6889 - precision_3: 0.7996\n",
      "Epoch 7: val_loss did not improve from 1.28057\n",
      "\n",
      "Epoch 7: val_accuracy did not improve from 0.53553\n",
      "629/629 [==============================] - 47s 74ms/step - loss: 0.8399 - accuracy: 0.6889 - precision_3: 0.7996 - val_loss: 1.6132 - val_accuracy: 0.5081 - val_precision_3: 0.5833\n",
      "Epoch 8/25\n",
      "628/629 [============================>.] - ETA: 0s - loss: 0.7274 - accuracy: 0.7276 - precision_3: 0.8152\n",
      "Epoch 8: val_loss did not improve from 1.28057\n",
      "\n",
      "Epoch 8: val_accuracy did not improve from 0.53553\n",
      "629/629 [==============================] - 47s 75ms/step - loss: 0.7274 - accuracy: 0.7276 - precision_3: 0.8152 - val_loss: 1.7430 - val_accuracy: 0.5188 - val_precision_3: 0.5717\n",
      "Epoch 9/25\n",
      "628/629 [============================>.] - ETA: 0s - loss: 0.5962 - accuracy: 0.7819 - precision_3: 0.8446\n",
      "Epoch 9: val_loss did not improve from 1.28057\n",
      "\n",
      "Epoch 9: val_accuracy did not improve from 0.53553\n",
      "629/629 [==============================] - 50s 80ms/step - loss: 0.5961 - accuracy: 0.7820 - precision_3: 0.8446 - val_loss: 1.9620 - val_accuracy: 0.4923 - val_precision_3: 0.5327\n",
      "Epoch 10/25\n",
      "628/629 [============================>.] - ETA: 0s - loss: 0.4965 - accuracy: 0.8186 - precision_3: 0.8666\n",
      "Epoch 10: val_loss did not improve from 1.28057\n",
      "\n",
      "Epoch 10: val_accuracy did not improve from 0.53553\n",
      "629/629 [==============================] - 55s 87ms/step - loss: 0.4965 - accuracy: 0.8186 - precision_3: 0.8666 - val_loss: 2.0706 - val_accuracy: 0.4909 - val_precision_3: 0.5357\n",
      "Epoch 11/25\n",
      "628/629 [============================>.] - ETA: 0s - loss: 0.4184 - accuracy: 0.8490 - precision_3: 0.8851\n",
      "Epoch 11: val_loss did not improve from 1.28057\n",
      "\n",
      "Epoch 11: val_accuracy did not improve from 0.53553\n",
      "629/629 [==============================] - 61s 96ms/step - loss: 0.4184 - accuracy: 0.8490 - precision_3: 0.8851 - val_loss: 2.3015 - val_accuracy: 0.4970 - val_precision_3: 0.5347\n",
      "Epoch 12/25\n",
      "628/629 [============================>.] - ETA: 0s - loss: 0.3529 - accuracy: 0.8749 - precision_3: 0.9006\n",
      "Epoch 12: val_loss did not improve from 1.28057\n",
      "\n",
      "Epoch 12: val_accuracy did not improve from 0.53553\n",
      "629/629 [==============================] - 61s 96ms/step - loss: 0.3529 - accuracy: 0.8749 - precision_3: 0.9006 - val_loss: 2.4803 - val_accuracy: 0.5002 - val_precision_3: 0.5263\n",
      "Epoch 13/25\n",
      "628/629 [============================>.] - ETA: 0s - loss: 0.3072 - accuracy: 0.8909 - precision_3: 0.9125\n",
      "Epoch 13: val_loss did not improve from 1.28057\n",
      "\n",
      "Epoch 13: val_accuracy did not improve from 0.53553\n",
      "629/629 [==============================] - 53s 84ms/step - loss: 0.3072 - accuracy: 0.8909 - precision_3: 0.9125 - val_loss: 2.6866 - val_accuracy: 0.4928 - val_precision_3: 0.5211\n",
      "Epoch 14/25\n",
      "628/629 [============================>.] - ETA: 0s - loss: 0.2600 - accuracy: 0.9098 - precision_3: 0.9255\n",
      "Epoch 14: val_loss did not improve from 1.28057\n",
      "\n",
      "Epoch 14: val_accuracy did not improve from 0.53553\n",
      "629/629 [==============================] - 50s 80ms/step - loss: 0.2600 - accuracy: 0.9098 - precision_3: 0.9255 - val_loss: 2.9989 - val_accuracy: 0.5007 - val_precision_3: 0.5167\n",
      "Epoch 15/25\n",
      "628/629 [============================>.] - ETA: 0s - loss: 0.2229 - accuracy: 0.9228 - precision_3: 0.9336\n",
      "Epoch 15: val_loss did not improve from 1.28057\n",
      "\n",
      "Epoch 15: val_accuracy did not improve from 0.53553\n",
      "629/629 [==============================] - 70s 111ms/step - loss: 0.2230 - accuracy: 0.9228 - precision_3: 0.9336 - val_loss: 3.2087 - val_accuracy: 0.5049 - val_precision_3: 0.5261\n",
      "Epoch 16/25\n",
      "628/629 [============================>.] - ETA: 0s - loss: 0.2202 - accuracy: 0.9231 - precision_3: 0.9347\n",
      "Epoch 16: val_loss did not improve from 1.28057\n",
      "\n",
      "Epoch 16: val_accuracy did not improve from 0.53553\n",
      "629/629 [==============================] - 54s 86ms/step - loss: 0.2201 - accuracy: 0.9231 - precision_3: 0.9347 - val_loss: 3.4664 - val_accuracy: 0.4840 - val_precision_3: 0.5042\n",
      "Epoch 17/25\n",
      "628/629 [============================>.] - ETA: 0s - loss: 0.1824 - accuracy: 0.9399 - precision_3: 0.9471\n",
      "Epoch 17: val_loss did not improve from 1.28057\n",
      "\n",
      "Epoch 17: val_accuracy did not improve from 0.53553\n",
      "629/629 [==============================] - 57s 90ms/step - loss: 0.1823 - accuracy: 0.9399 - precision_3: 0.9471 - val_loss: 3.6218 - val_accuracy: 0.4738 - val_precision_3: 0.4894\n",
      "Epoch 18/25\n",
      "628/629 [============================>.] - ETA: 0s - loss: 0.1567 - accuracy: 0.9479 - precision_3: 0.9539\n",
      "Epoch 18: val_loss did not improve from 1.28057\n",
      "\n",
      "Epoch 18: val_accuracy did not improve from 0.53553\n",
      "629/629 [==============================] - 49s 78ms/step - loss: 0.1567 - accuracy: 0.9479 - precision_3: 0.9539 - val_loss: 3.5107 - val_accuracy: 0.4844 - val_precision_3: 0.4978\n",
      "Epoch 19/25\n",
      "628/629 [============================>.] - ETA: 0s - loss: 0.1486 - accuracy: 0.9509 - precision_3: 0.9564\n",
      "Epoch 19: val_loss did not improve from 1.28057\n",
      "\n",
      "Epoch 19: val_accuracy did not improve from 0.53553\n",
      "629/629 [==============================] - 52s 83ms/step - loss: 0.1486 - accuracy: 0.9509 - precision_3: 0.9564 - val_loss: 3.9636 - val_accuracy: 0.4858 - val_precision_3: 0.4966\n",
      "Epoch 20/25\n",
      "628/629 [============================>.] - ETA: 0s - loss: 0.1411 - accuracy: 0.9539 - precision_3: 0.9580\n",
      "Epoch 20: val_loss did not improve from 1.28057\n",
      "\n",
      "Epoch 20: val_accuracy did not improve from 0.53553\n",
      "629/629 [==============================] - 44s 70ms/step - loss: 0.1411 - accuracy: 0.9539 - precision_3: 0.9580 - val_loss: 3.6909 - val_accuracy: 0.4961 - val_precision_3: 0.5071\n",
      "Epoch 21/25\n",
      "628/629 [============================>.] - ETA: 0s - loss: 0.1285 - accuracy: 0.9578 - precision_3: 0.9614\n",
      "Epoch 21: val_loss did not improve from 1.28057\n",
      "\n",
      "Epoch 21: val_accuracy did not improve from 0.53553\n",
      "629/629 [==============================] - 51s 82ms/step - loss: 0.1285 - accuracy: 0.9578 - precision_3: 0.9614 - val_loss: 4.1376 - val_accuracy: 0.4882 - val_precision_3: 0.4957\n",
      "Epoch 22/25\n",
      "628/629 [============================>.] - ETA: 0s - loss: 0.1097 - accuracy: 0.9631 - precision_3: 0.9662\n",
      "Epoch 22: val_loss did not improve from 1.28057\n",
      "\n",
      "Epoch 22: val_accuracy did not improve from 0.53553\n",
      "629/629 [==============================] - 53s 84ms/step - loss: 0.1097 - accuracy: 0.9631 - precision_3: 0.9662 - val_loss: 4.0201 - val_accuracy: 0.5002 - val_precision_3: 0.5109\n",
      "Epoch 23/25\n",
      "628/629 [============================>.] - ETA: 0s - loss: 0.1093 - accuracy: 0.9646 - precision_3: 0.9674\n",
      "Epoch 23: val_loss did not improve from 1.28057\n",
      "\n",
      "Epoch 23: val_accuracy did not improve from 0.53553\n",
      "629/629 [==============================] - 54s 86ms/step - loss: 0.1093 - accuracy: 0.9646 - precision_3: 0.9674 - val_loss: 4.0208 - val_accuracy: 0.4928 - val_precision_3: 0.5024\n",
      "Epoch 24/25\n",
      "628/629 [============================>.] - ETA: 0s - loss: 0.1106 - accuracy: 0.9654 - precision_3: 0.9678\n",
      "Epoch 24: val_loss did not improve from 1.28057\n",
      "\n",
      "Epoch 24: val_accuracy did not improve from 0.53553\n",
      "629/629 [==============================] - 54s 86ms/step - loss: 0.1106 - accuracy: 0.9654 - precision_3: 0.9678 - val_loss: 4.3616 - val_accuracy: 0.4696 - val_precision_3: 0.4787\n",
      "Epoch 25/25\n",
      "459/629 [====================>.........] - ETA: 11s - loss: 0.0966 - accuracy: 0.9683 - precision_3: 0.9708"
     ]
    }
   ],
   "source": [
    "H = model.fit(train_ds,\n",
    "                  validation_data=val_ds,\n",
    "                  epochs=epochs,\n",
    "                  verbose=1,\n",
    "                  callbacks=callbacks_list\n",
    "                  )\n",
    "\n"
   ]
  },
  {
   "cell_type": "code",
   "execution_count": null,
   "metadata": {},
   "outputs": [],
   "source": [
    "report = H.history"
   ]
  },
  {
   "cell_type": "code",
   "execution_count": null,
   "metadata": {},
   "outputs": [],
   "source": [
    "report = pd.DataFrame(report)"
   ]
  },
  {
   "cell_type": "code",
   "execution_count": null,
   "metadata": {},
   "outputs": [],
   "source": [
    "report.to_csv(\"report-5.csv\")"
   ]
  },
  {
   "cell_type": "code",
   "execution_count": null,
   "metadata": {},
   "outputs": [],
   "source": []
  }
 ],
 "metadata": {
  "kernelspec": {
   "display_name": "Python 3",
   "language": "python",
   "name": "python3"
  },
  "language_info": {
   "codemirror_mode": {
    "name": "ipython",
    "version": 3
   },
   "file_extension": ".py",
   "mimetype": "text/x-python",
   "name": "python",
   "nbconvert_exporter": "python",
   "pygments_lexer": "ipython3",
   "version": "3.10.12"
  }
 },
 "nbformat": 4,
 "nbformat_minor": 2
}
