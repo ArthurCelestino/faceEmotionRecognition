{
 "cells": [
  {
   "cell_type": "code",
   "execution_count": 2,
   "metadata": {},
   "outputs": [],
   "source": [
    "import os\n",
    "import tensorflow as tf\n",
    "from keras.layers import Rescaling  # Camada de escalonamento\n",
    "from keras.optimizers import Adam, SGD  # optimizadores \n",
    "# Classe utilizada para acompanhamento durante o treinamento onde definimos os atributos que serão considerados para avaliação\n",
    "from keras.callbacks import ModelCheckpoint\n",
    "from tensorflow.data import AUTOTUNE\n",
    "# Função que carrega o dataset de um diretório\n",
    "from tensorflow.keras.utils import image_dataset_from_directory\n",
    "from tensorflow.keras.metrics import Recall, Precision\n",
    "from tensorflow.keras.applications import ResNet50, EfficientNetB0\n",
    "from keras.models import Sequential\n",
    "from keras.layers import Activation, Flatten, Dense, Dropout\n",
    "import matplotlib.pyplot as plt\n",
    "\n",
    "\n",
    "import pandas as pd"
   ]
  },
  {
   "cell_type": "code",
   "execution_count": 14,
   "metadata": {},
   "outputs": [],
   "source": [
    "base_model = EfficientNetB0(include_top=False, input_shape=(48, 48, 3))\n",
    "model = Sequential()\n",
    "model.add(base_model)\n",
    "model.add(Flatten())\n",
    "model.add(Dense(7, activation=\"softmax\"))\n",
    "\n",
    "for layer in base_model.layers:\n",
    "    layer.trainable = False\n",
    "#model.load_weights('all_layers_freezed.h5')\n",
    "\n",
    "for layer in base_model.layers[int(len(base_model.layers)/2):]: ## treinando somente a segunda metade\n",
    "    layer.trainable = True"
   ]
  },
  {
   "cell_type": "code",
   "execution_count": 16,
   "metadata": {},
   "outputs": [
    {
     "name": "stdout",
     "output_type": "stream",
     "text": [
      "efficientnetb0 True\n",
      "flatten_3 True\n",
      "dense_3 True\n"
     ]
    }
   ],
   "source": [
    "for l in model.layers:\n",
    "    print(l.name, l.trainable)"
   ]
  },
  {
   "cell_type": "code",
   "execution_count": 17,
   "metadata": {},
   "outputs": [
    {
     "name": "stdout",
     "output_type": "stream",
     "text": [
      "input_4 False\n",
      "rescaling_3 False\n",
      "normalization_3 False\n",
      "tf.math.truediv_3 False\n",
      "stem_conv_pad False\n",
      "stem_conv False\n",
      "stem_bn False\n",
      "stem_activation False\n",
      "block1a_dwconv False\n",
      "block1a_bn False\n",
      "block1a_activation False\n",
      "block1a_se_squeeze False\n",
      "block1a_se_reshape False\n",
      "block1a_se_reduce False\n",
      "block1a_se_expand False\n",
      "block1a_se_excite False\n",
      "block1a_project_conv False\n",
      "block1a_project_bn False\n",
      "block2a_expand_conv False\n",
      "block2a_expand_bn False\n",
      "block2a_expand_activation False\n",
      "block2a_dwconv_pad False\n",
      "block2a_dwconv False\n",
      "block2a_bn False\n",
      "block2a_activation False\n",
      "block2a_se_squeeze False\n",
      "block2a_se_reshape False\n",
      "block2a_se_reduce False\n",
      "block2a_se_expand False\n",
      "block2a_se_excite False\n",
      "block2a_project_conv False\n",
      "block2a_project_bn False\n",
      "block2b_expand_conv False\n",
      "block2b_expand_bn False\n",
      "block2b_expand_activation False\n",
      "block2b_dwconv False\n",
      "block2b_bn False\n",
      "block2b_activation False\n",
      "block2b_se_squeeze False\n",
      "block2b_se_reshape False\n",
      "block2b_se_reduce False\n",
      "block2b_se_expand False\n",
      "block2b_se_excite False\n",
      "block2b_project_conv False\n",
      "block2b_project_bn False\n",
      "block2b_drop False\n",
      "block2b_add False\n",
      "block3a_expand_conv False\n",
      "block3a_expand_bn False\n",
      "block3a_expand_activation False\n",
      "block3a_dwconv_pad False\n",
      "block3a_dwconv False\n",
      "block3a_bn False\n",
      "block3a_activation False\n",
      "block3a_se_squeeze False\n",
      "block3a_se_reshape False\n",
      "block3a_se_reduce False\n",
      "block3a_se_expand False\n",
      "block3a_se_excite False\n",
      "block3a_project_conv False\n",
      "block3a_project_bn False\n",
      "block3b_expand_conv False\n",
      "block3b_expand_bn False\n",
      "block3b_expand_activation False\n",
      "block3b_dwconv False\n",
      "block3b_bn False\n",
      "block3b_activation False\n",
      "block3b_se_squeeze False\n",
      "block3b_se_reshape False\n",
      "block3b_se_reduce False\n",
      "block3b_se_expand False\n",
      "block3b_se_excite False\n",
      "block3b_project_conv False\n",
      "block3b_project_bn False\n",
      "block3b_drop False\n",
      "block3b_add False\n",
      "block4a_expand_conv False\n",
      "block4a_expand_bn False\n",
      "block4a_expand_activation False\n",
      "block4a_dwconv_pad False\n",
      "block4a_dwconv False\n",
      "block4a_bn False\n",
      "block4a_activation False\n",
      "block4a_se_squeeze False\n",
      "block4a_se_reshape False\n",
      "block4a_se_reduce False\n",
      "block4a_se_expand False\n",
      "block4a_se_excite False\n",
      "block4a_project_conv False\n",
      "block4a_project_bn False\n",
      "block4b_expand_conv False\n",
      "block4b_expand_bn False\n",
      "block4b_expand_activation False\n",
      "block4b_dwconv False\n",
      "block4b_bn False\n",
      "block4b_activation False\n",
      "block4b_se_squeeze False\n",
      "block4b_se_reshape False\n",
      "block4b_se_reduce False\n",
      "block4b_se_expand False\n",
      "block4b_se_excite False\n",
      "block4b_project_conv False\n",
      "block4b_project_bn False\n",
      "block4b_drop False\n",
      "block4b_add False\n",
      "block4c_expand_conv False\n",
      "block4c_expand_bn False\n",
      "block4c_expand_activation False\n",
      "block4c_dwconv False\n",
      "block4c_bn False\n",
      "block4c_activation False\n",
      "block4c_se_squeeze False\n",
      "block4c_se_reshape False\n",
      "block4c_se_reduce False\n",
      "block4c_se_expand False\n",
      "block4c_se_excite False\n",
      "block4c_project_conv False\n",
      "block4c_project_bn False\n",
      "block4c_drop False\n",
      "block4c_add True\n",
      "block5a_expand_conv True\n",
      "block5a_expand_bn True\n",
      "block5a_expand_activation True\n",
      "block5a_dwconv True\n",
      "block5a_bn True\n",
      "block5a_activation True\n",
      "block5a_se_squeeze True\n",
      "block5a_se_reshape True\n",
      "block5a_se_reduce True\n",
      "block5a_se_expand True\n",
      "block5a_se_excite True\n",
      "block5a_project_conv True\n",
      "block5a_project_bn True\n",
      "block5b_expand_conv True\n",
      "block5b_expand_bn True\n",
      "block5b_expand_activation True\n",
      "block5b_dwconv True\n",
      "block5b_bn True\n",
      "block5b_activation True\n",
      "block5b_se_squeeze True\n",
      "block5b_se_reshape True\n",
      "block5b_se_reduce True\n",
      "block5b_se_expand True\n",
      "block5b_se_excite True\n",
      "block5b_project_conv True\n",
      "block5b_project_bn True\n",
      "block5b_drop True\n",
      "block5b_add True\n",
      "block5c_expand_conv True\n",
      "block5c_expand_bn True\n",
      "block5c_expand_activation True\n",
      "block5c_dwconv True\n",
      "block5c_bn True\n",
      "block5c_activation True\n",
      "block5c_se_squeeze True\n",
      "block5c_se_reshape True\n",
      "block5c_se_reduce True\n",
      "block5c_se_expand True\n",
      "block5c_se_excite True\n",
      "block5c_project_conv True\n",
      "block5c_project_bn True\n",
      "block5c_drop True\n",
      "block5c_add True\n",
      "block6a_expand_conv True\n",
      "block6a_expand_bn True\n",
      "block6a_expand_activation True\n",
      "block6a_dwconv_pad True\n",
      "block6a_dwconv True\n",
      "block6a_bn True\n",
      "block6a_activation True\n",
      "block6a_se_squeeze True\n",
      "block6a_se_reshape True\n",
      "block6a_se_reduce True\n",
      "block6a_se_expand True\n",
      "block6a_se_excite True\n",
      "block6a_project_conv True\n",
      "block6a_project_bn True\n",
      "block6b_expand_conv True\n",
      "block6b_expand_bn True\n",
      "block6b_expand_activation True\n",
      "block6b_dwconv True\n",
      "block6b_bn True\n",
      "block6b_activation True\n",
      "block6b_se_squeeze True\n",
      "block6b_se_reshape True\n",
      "block6b_se_reduce True\n",
      "block6b_se_expand True\n",
      "block6b_se_excite True\n",
      "block6b_project_conv True\n",
      "block6b_project_bn True\n",
      "block6b_drop True\n",
      "block6b_add True\n",
      "block6c_expand_conv True\n",
      "block6c_expand_bn True\n",
      "block6c_expand_activation True\n",
      "block6c_dwconv True\n",
      "block6c_bn True\n",
      "block6c_activation True\n",
      "block6c_se_squeeze True\n",
      "block6c_se_reshape True\n",
      "block6c_se_reduce True\n",
      "block6c_se_expand True\n",
      "block6c_se_excite True\n",
      "block6c_project_conv True\n",
      "block6c_project_bn True\n",
      "block6c_drop True\n",
      "block6c_add True\n",
      "block6d_expand_conv True\n",
      "block6d_expand_bn True\n",
      "block6d_expand_activation True\n",
      "block6d_dwconv True\n",
      "block6d_bn True\n",
      "block6d_activation True\n",
      "block6d_se_squeeze True\n",
      "block6d_se_reshape True\n",
      "block6d_se_reduce True\n",
      "block6d_se_expand True\n",
      "block6d_se_excite True\n",
      "block6d_project_conv True\n",
      "block6d_project_bn True\n",
      "block6d_drop True\n",
      "block6d_add True\n",
      "block7a_expand_conv True\n",
      "block7a_expand_bn True\n",
      "block7a_expand_activation True\n",
      "block7a_dwconv True\n",
      "block7a_bn True\n",
      "block7a_activation True\n",
      "block7a_se_squeeze True\n",
      "block7a_se_reshape True\n",
      "block7a_se_reduce True\n",
      "block7a_se_expand True\n",
      "block7a_se_excite True\n",
      "block7a_project_conv True\n",
      "block7a_project_bn True\n",
      "top_conv True\n",
      "top_bn True\n",
      "top_activation True\n"
     ]
    }
   ],
   "source": [
    "for l in base_model.layers:\n",
    "    print(l.name, l.trainable)"
   ]
  },
  {
   "cell_type": "code",
   "execution_count": 18,
   "metadata": {},
   "outputs": [],
   "source": [
    "train_path = \"./../data/fer2013/train/\"\n",
    "validation_path = \"./../data/fer2013/test/\"\n",
    "models_path = \"./models\"\n",
    "\n",
    "width = 48  \n",
    "height = 48  \n",
    "depth = 1 \n",
    "\n",
    "epochs = 25\n",
    "init_lr = 1e-3\n",
    "batch_size = 32\n",
    "\n",
    "color_mode = \"rgb\"\n",
    "\n",
    "input_shape = (height, width, depth)\n",
    "save_model = os.path.join(\n",
    "        models_path, \"resnet-{epoch:02d}-{accuracy:.3f}-{val_accuracy:.3f}.model\")"
   ]
  },
  {
   "cell_type": "code",
   "execution_count": 21,
   "metadata": {},
   "outputs": [
    {
     "name": "stdout",
     "output_type": "stream",
     "text": [
      "Found 28709 files belonging to 7 classes.\n",
      "Using 20097 files for training.\n",
      "Found 7178 files belonging to 7 classes.\n",
      "Using 2153 files for validation.\n"
     ]
    }
   ],
   "source": [
    "train_ds = image_dataset_from_directory(\n",
    "        train_path,\n",
    "        seed=123,\n",
    "        label_mode='categorical',\n",
    "        validation_split=0.3,\n",
    "        subset=\"training\",\n",
    "        color_mode=color_mode,\n",
    "        image_size=(height, width),\n",
    "        batch_size=batch_size\n",
    "    )\n",
    "\n",
    "val_ds = image_dataset_from_directory(\n",
    "    validation_path,\n",
    "    seed=123,\n",
    "    label_mode='categorical',\n",
    "    validation_split=0.3,\n",
    "    subset=\"validation\",\n",
    "    color_mode=color_mode,\n",
    "    image_size=(height, width),\n",
    "    batch_size=batch_size\n",
    ") "
   ]
  },
  {
   "cell_type": "code",
   "execution_count": 22,
   "metadata": {},
   "outputs": [],
   "source": [
    "rescaling_layer = Rescaling(1./255) ## normalizando os valores dos pixels\n",
    "# pré-busca em buffer para que se possa produzir dados do disco sem que a E/S se torne um bloqueio\n",
    "train_ds = train_ds.map(lambda x, y: (rescaling_layer(x), y), \n",
    "                        num_parallel_calls=AUTOTUNE)\n",
    "val_ds = val_ds.map(lambda x, y: (rescaling_layer(x), y),\n",
    "                    num_parallel_calls=AUTOTUNE)\n"
   ]
  },
  {
   "cell_type": "code",
   "execution_count": 23,
   "metadata": {},
   "outputs": [],
   "source": [
    "####model = utils.create_model(input_shape=input_shape)"
   ]
  },
  {
   "cell_type": "code",
   "execution_count": 30,
   "metadata": {},
   "outputs": [
    {
     "name": "stderr",
     "output_type": "stream",
     "text": [
      "/home/elisaveloso/.local/lib/python3.10/site-packages/keras/optimizers/optimizer_v2/gradient_descent.py:108: UserWarning: The `lr` argument is deprecated, use `learning_rate` instead.\n",
      "  super(SGD, self).__init__(name, **kwargs)\n"
     ]
    }
   ],
   "source": [
    "opt = keras.optimizers.SGD(lr=init_lr, decay=init_lr / epochs)\n",
    "\n",
    "model.compile(loss=\"categorical_crossentropy\",\n",
    "                  optimizer=opt, metrics=[\"accuracy\", Precision()])"
   ]
  },
  {
   "cell_type": "code",
   "execution_count": 31,
   "metadata": {},
   "outputs": [
    {
     "name": "stdout",
     "output_type": "stream",
     "text": [
      "Model: \"sequential_3\"\n",
      "_________________________________________________________________\n",
      " Layer (type)                Output Shape              Param #   \n",
      "=================================================================\n",
      " efficientnetb0 (Functional)  (None, 2, 2, 1280)       4049571   \n",
      "                                                                 \n",
      " flatten_3 (Flatten)         (None, 5120)              0         \n",
      "                                                                 \n",
      " dense_3 (Dense)             (None, 7)                 35847     \n",
      "                                                                 \n",
      "=================================================================\n",
      "Total params: 4,085,418\n",
      "Trainable params: 3,734,735\n",
      "Non-trainable params: 350,683\n",
      "_________________________________________________________________\n"
     ]
    }
   ],
   "source": [
    "model.summary()"
   ]
  },
  {
   "cell_type": "code",
   "execution_count": 32,
   "metadata": {},
   "outputs": [],
   "source": [
    "checkpoint1 = ModelCheckpoint(\n",
    "    save_model, monitor='val_loss', verbose=1, save_best_only=True, mode='min')\n",
    "checkpoint2 = ModelCheckpoint(\n",
    "    save_model, monitor='val_accuracy', verbose=1, save_best_only=True, mode='max')\n",
    "callbacks_list = [checkpoint1, checkpoint2]"
   ]
  },
  {
   "cell_type": "code",
   "execution_count": 33,
   "metadata": {},
   "outputs": [
    {
     "name": "stdout",
     "output_type": "stream",
     "text": [
      "Epoch 1/25\n",
      "629/629 [==============================] - ETA: 0s - loss: 1.9636 - accuracy: 0.2136 - precision: 0.2381\n",
      "Epoch 1: val_loss improved from inf to 2.03414, saving model to ./models/resnet-01-0.214-0.151.model\n"
     ]
    },
    {
     "name": "stderr",
     "output_type": "stream",
     "text": [
      "WARNING:absl:Found untraced functions such as _jit_compiled_convolution_op, _jit_compiled_convolution_op, _jit_compiled_convolution_op, _jit_compiled_convolution_op, _jit_compiled_convolution_op while saving (showing 5 of 81). These functions will not be directly callable after loading.\n"
     ]
    },
    {
     "name": "stdout",
     "output_type": "stream",
     "text": [
      "INFO:tensorflow:Assets written to: ./models/resnet-01-0.214-0.151.model/assets\n"
     ]
    },
    {
     "name": "stderr",
     "output_type": "stream",
     "text": [
      "INFO:tensorflow:Assets written to: ./models/resnet-01-0.214-0.151.model/assets\n"
     ]
    },
    {
     "name": "stdout",
     "output_type": "stream",
     "text": [
      "\n",
      "Epoch 1: val_accuracy improved from -inf to 0.15095, saving model to ./models/resnet-01-0.214-0.151.model\n"
     ]
    },
    {
     "name": "stderr",
     "output_type": "stream",
     "text": [
      "WARNING:absl:Found untraced functions such as _jit_compiled_convolution_op, _jit_compiled_convolution_op, _jit_compiled_convolution_op, _jit_compiled_convolution_op, _jit_compiled_convolution_op while saving (showing 5 of 81). These functions will not be directly callable after loading.\n"
     ]
    },
    {
     "name": "stdout",
     "output_type": "stream",
     "text": [
      "INFO:tensorflow:Assets written to: ./models/resnet-01-0.214-0.151.model/assets\n"
     ]
    },
    {
     "name": "stderr",
     "output_type": "stream",
     "text": [
      "INFO:tensorflow:Assets written to: ./models/resnet-01-0.214-0.151.model/assets\n"
     ]
    },
    {
     "name": "stdout",
     "output_type": "stream",
     "text": [
      "629/629 [==============================] - 176s 273ms/step - loss: 1.9636 - accuracy: 0.2136 - precision: 0.2381 - val_loss: 2.0341 - val_accuracy: 0.1510 - val_precision: 0.2077\n",
      "Epoch 2/25\n",
      "629/629 [==============================] - ETA: 0s - loss: 1.8605 - accuracy: 0.2406 - precision: 0.3320\n",
      "Epoch 2: val_loss improved from 2.03414 to 1.94267, saving model to ./models/resnet-02-0.241-0.217.model\n"
     ]
    },
    {
     "name": "stderr",
     "output_type": "stream",
     "text": [
      "WARNING:absl:Found untraced functions such as _jit_compiled_convolution_op, _jit_compiled_convolution_op, _jit_compiled_convolution_op, _jit_compiled_convolution_op, _jit_compiled_convolution_op while saving (showing 5 of 81). These functions will not be directly callable after loading.\n"
     ]
    },
    {
     "name": "stdout",
     "output_type": "stream",
     "text": [
      "INFO:tensorflow:Assets written to: ./models/resnet-02-0.241-0.217.model/assets\n"
     ]
    },
    {
     "name": "stderr",
     "output_type": "stream",
     "text": [
      "INFO:tensorflow:Assets written to: ./models/resnet-02-0.241-0.217.model/assets\n"
     ]
    },
    {
     "name": "stdout",
     "output_type": "stream",
     "text": [
      "\n",
      "Epoch 2: val_accuracy improved from 0.15095 to 0.21691, saving model to ./models/resnet-02-0.241-0.217.model\n"
     ]
    },
    {
     "name": "stderr",
     "output_type": "stream",
     "text": [
      "WARNING:absl:Found untraced functions such as _jit_compiled_convolution_op, _jit_compiled_convolution_op, _jit_compiled_convolution_op, _jit_compiled_convolution_op, _jit_compiled_convolution_op while saving (showing 5 of 81). These functions will not be directly callable after loading.\n"
     ]
    },
    {
     "name": "stdout",
     "output_type": "stream",
     "text": [
      "INFO:tensorflow:Assets written to: ./models/resnet-02-0.241-0.217.model/assets\n"
     ]
    },
    {
     "name": "stderr",
     "output_type": "stream",
     "text": [
      "INFO:tensorflow:Assets written to: ./models/resnet-02-0.241-0.217.model/assets\n"
     ]
    },
    {
     "name": "stdout",
     "output_type": "stream",
     "text": [
      "629/629 [==============================] - 165s 263ms/step - loss: 1.8605 - accuracy: 0.2406 - precision: 0.3320 - val_loss: 1.9427 - val_accuracy: 0.2169 - val_precision: 0.3051\n",
      "Epoch 3/25\n",
      "629/629 [==============================] - ETA: 0s - loss: 1.8175 - accuracy: 0.2628 - precision: 0.4000\n",
      "Epoch 3: val_loss improved from 1.94267 to 1.82378, saving model to ./models/resnet-03-0.263-0.272.model\n"
     ]
    },
    {
     "name": "stderr",
     "output_type": "stream",
     "text": [
      "WARNING:absl:Found untraced functions such as _jit_compiled_convolution_op, _jit_compiled_convolution_op, _jit_compiled_convolution_op, _jit_compiled_convolution_op, _jit_compiled_convolution_op while saving (showing 5 of 81). These functions will not be directly callable after loading.\n"
     ]
    },
    {
     "name": "stdout",
     "output_type": "stream",
     "text": [
      "INFO:tensorflow:Assets written to: ./models/resnet-03-0.263-0.272.model/assets\n"
     ]
    },
    {
     "name": "stderr",
     "output_type": "stream",
     "text": [
      "INFO:tensorflow:Assets written to: ./models/resnet-03-0.263-0.272.model/assets\n"
     ]
    },
    {
     "name": "stdout",
     "output_type": "stream",
     "text": [
      "\n",
      "Epoch 3: val_accuracy improved from 0.21691 to 0.27218, saving model to ./models/resnet-03-0.263-0.272.model\n"
     ]
    },
    {
     "name": "stderr",
     "output_type": "stream",
     "text": [
      "WARNING:absl:Found untraced functions such as _jit_compiled_convolution_op, _jit_compiled_convolution_op, _jit_compiled_convolution_op, _jit_compiled_convolution_op, _jit_compiled_convolution_op while saving (showing 5 of 81). These functions will not be directly callable after loading.\n"
     ]
    },
    {
     "name": "stdout",
     "output_type": "stream",
     "text": [
      "INFO:tensorflow:Assets written to: ./models/resnet-03-0.263-0.272.model/assets\n"
     ]
    },
    {
     "name": "stderr",
     "output_type": "stream",
     "text": [
      "INFO:tensorflow:Assets written to: ./models/resnet-03-0.263-0.272.model/assets\n"
     ]
    },
    {
     "name": "stdout",
     "output_type": "stream",
     "text": [
      "629/629 [==============================] - 151s 240ms/step - loss: 1.8175 - accuracy: 0.2628 - precision: 0.4000 - val_loss: 1.8238 - val_accuracy: 0.2722 - val_precision: 0.4444\n",
      "Epoch 4/25\n",
      "629/629 [==============================] - ETA: 0s - loss: 1.7834 - accuracy: 0.2745 - precision: 0.4604\n",
      "Epoch 4: val_loss did not improve from 1.82378\n",
      "\n",
      "Epoch 4: val_accuracy did not improve from 0.27218\n",
      "629/629 [==============================] - 94s 149ms/step - loss: 1.7834 - accuracy: 0.2745 - precision: 0.4604 - val_loss: 1.8522 - val_accuracy: 0.2680 - val_precision: 0.3937\n",
      "Epoch 5/25\n",
      "629/629 [==============================] - ETA: 0s - loss: 1.7718 - accuracy: 0.2825 - precision: 0.4738\n",
      "Epoch 5: val_loss improved from 1.82378 to 1.82115, saving model to ./models/resnet-05-0.282-0.264.model\n"
     ]
    },
    {
     "name": "stderr",
     "output_type": "stream",
     "text": [
      "WARNING:absl:Found untraced functions such as _jit_compiled_convolution_op, _jit_compiled_convolution_op, _jit_compiled_convolution_op, _jit_compiled_convolution_op, _jit_compiled_convolution_op while saving (showing 5 of 81). These functions will not be directly callable after loading.\n"
     ]
    },
    {
     "name": "stdout",
     "output_type": "stream",
     "text": [
      "INFO:tensorflow:Assets written to: ./models/resnet-05-0.282-0.264.model/assets\n"
     ]
    },
    {
     "name": "stderr",
     "output_type": "stream",
     "text": [
      "INFO:tensorflow:Assets written to: ./models/resnet-05-0.282-0.264.model/assets\n"
     ]
    },
    {
     "name": "stdout",
     "output_type": "stream",
     "text": [
      "\n",
      "Epoch 5: val_accuracy did not improve from 0.27218\n",
      "629/629 [==============================] - 121s 192ms/step - loss: 1.7718 - accuracy: 0.2825 - precision: 0.4738 - val_loss: 1.8211 - val_accuracy: 0.2643 - val_precision: 0.5714\n",
      "Epoch 6/25\n",
      "629/629 [==============================] - ETA: 0s - loss: 1.7511 - accuracy: 0.2855 - precision: 0.4866\n",
      "Epoch 6: val_loss did not improve from 1.82115\n",
      "\n",
      "Epoch 6: val_accuracy did not improve from 0.27218\n",
      "629/629 [==============================] - 98s 156ms/step - loss: 1.7511 - accuracy: 0.2855 - precision: 0.4866 - val_loss: 1.8238 - val_accuracy: 0.2545 - val_precision: 0.4412\n",
      "Epoch 7/25\n",
      "629/629 [==============================] - ETA: 0s - loss: 1.7501 - accuracy: 0.2887 - precision: 0.5178\n",
      "Epoch 7: val_loss did not improve from 1.82115\n",
      "\n",
      "Epoch 7: val_accuracy did not improve from 0.27218\n",
      "629/629 [==============================] - 129s 205ms/step - loss: 1.7501 - accuracy: 0.2887 - precision: 0.5178 - val_loss: 1.8677 - val_accuracy: 0.2188 - val_precision: 0.4058\n",
      "Epoch 8/25\n",
      "629/629 [==============================] - ETA: 0s - loss: 1.7394 - accuracy: 0.2980 - precision: 0.5377\n",
      "Epoch 8: val_loss improved from 1.82115 to 1.77277, saving model to ./models/resnet-08-0.298-0.273.model\n"
     ]
    },
    {
     "name": "stderr",
     "output_type": "stream",
     "text": [
      "WARNING:absl:Found untraced functions such as _jit_compiled_convolution_op, _jit_compiled_convolution_op, _jit_compiled_convolution_op, _jit_compiled_convolution_op, _jit_compiled_convolution_op while saving (showing 5 of 81). These functions will not be directly callable after loading.\n"
     ]
    },
    {
     "name": "stdout",
     "output_type": "stream",
     "text": [
      "INFO:tensorflow:Assets written to: ./models/resnet-08-0.298-0.273.model/assets\n"
     ]
    },
    {
     "name": "stderr",
     "output_type": "stream",
     "text": [
      "INFO:tensorflow:Assets written to: ./models/resnet-08-0.298-0.273.model/assets\n"
     ]
    },
    {
     "name": "stdout",
     "output_type": "stream",
     "text": [
      "\n",
      "Epoch 8: val_accuracy improved from 0.27218 to 0.27264, saving model to ./models/resnet-08-0.298-0.273.model\n"
     ]
    },
    {
     "name": "stderr",
     "output_type": "stream",
     "text": [
      "WARNING:absl:Found untraced functions such as _jit_compiled_convolution_op, _jit_compiled_convolution_op, _jit_compiled_convolution_op, _jit_compiled_convolution_op, _jit_compiled_convolution_op while saving (showing 5 of 81). These functions will not be directly callable after loading.\n"
     ]
    },
    {
     "name": "stdout",
     "output_type": "stream",
     "text": [
      "INFO:tensorflow:Assets written to: ./models/resnet-08-0.298-0.273.model/assets\n"
     ]
    },
    {
     "name": "stderr",
     "output_type": "stream",
     "text": [
      "INFO:tensorflow:Assets written to: ./models/resnet-08-0.298-0.273.model/assets\n"
     ]
    },
    {
     "name": "stdout",
     "output_type": "stream",
     "text": [
      "629/629 [==============================] - 157s 249ms/step - loss: 1.7394 - accuracy: 0.2980 - precision: 0.5377 - val_loss: 1.7728 - val_accuracy: 0.2726 - val_precision: 0.5143\n",
      "Epoch 9/25\n",
      "629/629 [==============================] - ETA: 0s - loss: 1.7328 - accuracy: 0.3022 - precision: 0.5480\n",
      "Epoch 9: val_loss did not improve from 1.77277\n",
      "\n",
      "Epoch 9: val_accuracy improved from 0.27264 to 0.28704, saving model to ./models/resnet-09-0.302-0.287.model\n"
     ]
    },
    {
     "name": "stderr",
     "output_type": "stream",
     "text": [
      "WARNING:absl:Found untraced functions such as _jit_compiled_convolution_op, _jit_compiled_convolution_op, _jit_compiled_convolution_op, _jit_compiled_convolution_op, _jit_compiled_convolution_op while saving (showing 5 of 81). These functions will not be directly callable after loading.\n"
     ]
    },
    {
     "name": "stdout",
     "output_type": "stream",
     "text": [
      "INFO:tensorflow:Assets written to: ./models/resnet-09-0.302-0.287.model/assets\n"
     ]
    },
    {
     "name": "stderr",
     "output_type": "stream",
     "text": [
      "INFO:tensorflow:Assets written to: ./models/resnet-09-0.302-0.287.model/assets\n"
     ]
    },
    {
     "name": "stdout",
     "output_type": "stream",
     "text": [
      "629/629 [==============================] - 134s 213ms/step - loss: 1.7328 - accuracy: 0.3022 - precision: 0.5480 - val_loss: 1.8491 - val_accuracy: 0.2870 - val_precision: 0.5000\n",
      "Epoch 10/25\n",
      "629/629 [==============================] - ETA: 0s - loss: 1.7265 - accuracy: 0.3009 - precision: 0.5455\n",
      "Epoch 10: val_loss did not improve from 1.77277\n",
      "\n",
      "Epoch 10: val_accuracy did not improve from 0.28704\n",
      "629/629 [==============================] - 93s 149ms/step - loss: 1.7265 - accuracy: 0.3009 - precision: 0.5455 - val_loss: 1.8708 - val_accuracy: 0.2192 - val_precision: 0.4800\n",
      "Epoch 11/25\n",
      "629/629 [==============================] - ETA: 0s - loss: 1.7151 - accuracy: 0.3069 - precision: 0.5554\n",
      "Epoch 11: val_loss did not improve from 1.77277\n",
      "\n",
      "Epoch 11: val_accuracy improved from 0.28704 to 0.30144, saving model to ./models/resnet-11-0.307-0.301.model\n"
     ]
    },
    {
     "name": "stderr",
     "output_type": "stream",
     "text": [
      "WARNING:absl:Found untraced functions such as _jit_compiled_convolution_op, _jit_compiled_convolution_op, _jit_compiled_convolution_op, _jit_compiled_convolution_op, _jit_compiled_convolution_op while saving (showing 5 of 81). These functions will not be directly callable after loading.\n"
     ]
    },
    {
     "name": "stdout",
     "output_type": "stream",
     "text": [
      "INFO:tensorflow:Assets written to: ./models/resnet-11-0.307-0.301.model/assets\n"
     ]
    },
    {
     "name": "stderr",
     "output_type": "stream",
     "text": [
      "INFO:tensorflow:Assets written to: ./models/resnet-11-0.307-0.301.model/assets\n"
     ]
    },
    {
     "name": "stdout",
     "output_type": "stream",
     "text": [
      "629/629 [==============================] - 122s 195ms/step - loss: 1.7151 - accuracy: 0.3069 - precision: 0.5554 - val_loss: 1.7754 - val_accuracy: 0.3014 - val_precision: 0.5132\n",
      "Epoch 12/25\n",
      "629/629 [==============================] - ETA: 0s - loss: 1.7099 - accuracy: 0.3128 - precision: 0.5809\n",
      "Epoch 12: val_loss improved from 1.77277 to 1.77188, saving model to ./models/resnet-12-0.313-0.290.model\n"
     ]
    },
    {
     "name": "stderr",
     "output_type": "stream",
     "text": [
      "WARNING:absl:Found untraced functions such as _jit_compiled_convolution_op, _jit_compiled_convolution_op, _jit_compiled_convolution_op, _jit_compiled_convolution_op, _jit_compiled_convolution_op while saving (showing 5 of 81). These functions will not be directly callable after loading.\n"
     ]
    },
    {
     "name": "stdout",
     "output_type": "stream",
     "text": [
      "INFO:tensorflow:Assets written to: ./models/resnet-12-0.313-0.290.model/assets\n"
     ]
    },
    {
     "name": "stderr",
     "output_type": "stream",
     "text": [
      "INFO:tensorflow:Assets written to: ./models/resnet-12-0.313-0.290.model/assets\n"
     ]
    },
    {
     "name": "stdout",
     "output_type": "stream",
     "text": [
      "\n",
      "Epoch 12: val_accuracy did not improve from 0.30144\n",
      "629/629 [==============================] - 126s 201ms/step - loss: 1.7099 - accuracy: 0.3128 - precision: 0.5809 - val_loss: 1.7719 - val_accuracy: 0.2903 - val_precision: 0.5287\n",
      "Epoch 13/25\n",
      "629/629 [==============================] - ETA: 0s - loss: 1.7053 - accuracy: 0.3162 - precision: 0.5690\n",
      "Epoch 13: val_loss improved from 1.77188 to 1.77105, saving model to ./models/resnet-13-0.316-0.285.model\n"
     ]
    },
    {
     "name": "stderr",
     "output_type": "stream",
     "text": [
      "WARNING:absl:Found untraced functions such as _jit_compiled_convolution_op, _jit_compiled_convolution_op, _jit_compiled_convolution_op, _jit_compiled_convolution_op, _jit_compiled_convolution_op while saving (showing 5 of 81). These functions will not be directly callable after loading.\n"
     ]
    },
    {
     "name": "stdout",
     "output_type": "stream",
     "text": [
      "INFO:tensorflow:Assets written to: ./models/resnet-13-0.316-0.285.model/assets\n"
     ]
    },
    {
     "name": "stderr",
     "output_type": "stream",
     "text": [
      "INFO:tensorflow:Assets written to: ./models/resnet-13-0.316-0.285.model/assets\n"
     ]
    },
    {
     "name": "stdout",
     "output_type": "stream",
     "text": [
      "\n",
      "Epoch 13: val_accuracy did not improve from 0.30144\n",
      "629/629 [==============================] - 131s 208ms/step - loss: 1.7053 - accuracy: 0.3162 - precision: 0.5690 - val_loss: 1.7711 - val_accuracy: 0.2847 - val_precision: 0.5676\n",
      "Epoch 14/25\n",
      "629/629 [==============================] - ETA: 0s - loss: 1.7044 - accuracy: 0.3174 - precision: 0.5648\n",
      "Epoch 14: val_loss improved from 1.77105 to 1.75681, saving model to ./models/resnet-14-0.317-0.278.model\n"
     ]
    },
    {
     "name": "stderr",
     "output_type": "stream",
     "text": [
      "WARNING:absl:Found untraced functions such as _jit_compiled_convolution_op, _jit_compiled_convolution_op, _jit_compiled_convolution_op, _jit_compiled_convolution_op, _jit_compiled_convolution_op while saving (showing 5 of 81). These functions will not be directly callable after loading.\n"
     ]
    },
    {
     "name": "stdout",
     "output_type": "stream",
     "text": [
      "INFO:tensorflow:Assets written to: ./models/resnet-14-0.317-0.278.model/assets\n"
     ]
    },
    {
     "name": "stderr",
     "output_type": "stream",
     "text": [
      "INFO:tensorflow:Assets written to: ./models/resnet-14-0.317-0.278.model/assets\n"
     ]
    },
    {
     "name": "stdout",
     "output_type": "stream",
     "text": [
      "\n",
      "Epoch 14: val_accuracy did not improve from 0.30144\n",
      "629/629 [==============================] - 129s 205ms/step - loss: 1.7044 - accuracy: 0.3174 - precision: 0.5648 - val_loss: 1.7568 - val_accuracy: 0.2778 - val_precision: 0.6222\n",
      "Epoch 15/25\n",
      "629/629 [==============================] - ETA: 0s - loss: 1.6950 - accuracy: 0.3218 - precision: 0.5706\n",
      "Epoch 15: val_loss did not improve from 1.75681\n",
      "\n",
      "Epoch 15: val_accuracy did not improve from 0.30144\n",
      "629/629 [==============================] - 112s 177ms/step - loss: 1.6950 - accuracy: 0.3218 - precision: 0.5706 - val_loss: 1.7750 - val_accuracy: 0.2717 - val_precision: 0.6220\n",
      "Epoch 16/25\n",
      "629/629 [==============================] - ETA: 0s - loss: 1.6869 - accuracy: 0.3249 - precision: 0.5859\n",
      "Epoch 16: val_loss improved from 1.75681 to 1.74860, saving model to ./models/resnet-16-0.325-0.301.model\n"
     ]
    },
    {
     "name": "stderr",
     "output_type": "stream",
     "text": [
      "WARNING:absl:Found untraced functions such as _jit_compiled_convolution_op, _jit_compiled_convolution_op, _jit_compiled_convolution_op, _jit_compiled_convolution_op, _jit_compiled_convolution_op while saving (showing 5 of 81). These functions will not be directly callable after loading.\n"
     ]
    },
    {
     "name": "stdout",
     "output_type": "stream",
     "text": [
      "INFO:tensorflow:Assets written to: ./models/resnet-16-0.325-0.301.model/assets\n"
     ]
    },
    {
     "name": "stderr",
     "output_type": "stream",
     "text": [
      "INFO:tensorflow:Assets written to: ./models/resnet-16-0.325-0.301.model/assets\n"
     ]
    },
    {
     "name": "stdout",
     "output_type": "stream",
     "text": [
      "\n",
      "Epoch 16: val_accuracy did not improve from 0.30144\n",
      "629/629 [==============================] - 147s 234ms/step - loss: 1.6869 - accuracy: 0.3249 - precision: 0.5859 - val_loss: 1.7486 - val_accuracy: 0.3010 - val_precision: 0.5882\n",
      "Epoch 17/25\n",
      "629/629 [==============================] - ETA: 0s - loss: 1.6876 - accuracy: 0.3248 - precision: 0.5944\n",
      "Epoch 17: val_loss did not improve from 1.74860\n",
      "\n",
      "Epoch 17: val_accuracy did not improve from 0.30144\n",
      "629/629 [==============================] - 120s 191ms/step - loss: 1.6876 - accuracy: 0.3248 - precision: 0.5944 - val_loss: 1.7804 - val_accuracy: 0.2917 - val_precision: 0.5549\n",
      "Epoch 18/25\n",
      "629/629 [==============================] - ETA: 0s - loss: 1.6808 - accuracy: 0.3269 - precision: 0.5965\n",
      "Epoch 18: val_loss did not improve from 1.74860\n",
      "\n",
      "Epoch 18: val_accuracy did not improve from 0.30144\n",
      "629/629 [==============================] - 116s 184ms/step - loss: 1.6808 - accuracy: 0.3269 - precision: 0.5965 - val_loss: 1.7948 - val_accuracy: 0.2522 - val_precision: 0.5089\n",
      "Epoch 19/25\n",
      "629/629 [==============================] - ETA: 0s - loss: 1.6824 - accuracy: 0.3256 - precision: 0.5825\n",
      "Epoch 19: val_loss did not improve from 1.74860\n",
      "\n",
      "Epoch 19: val_accuracy did not improve from 0.30144\n",
      "629/629 [==============================] - 114s 181ms/step - loss: 1.6824 - accuracy: 0.3256 - precision: 0.5825 - val_loss: 1.7869 - val_accuracy: 0.2587 - val_precision: 0.5619\n",
      "Epoch 20/25\n",
      "629/629 [==============================] - ETA: 0s - loss: 1.6722 - accuracy: 0.3351 - precision: 0.5976\n",
      "Epoch 20: val_loss did not improve from 1.74860\n",
      "\n",
      "Epoch 20: val_accuracy did not improve from 0.30144\n",
      "629/629 [==============================] - 117s 186ms/step - loss: 1.6722 - accuracy: 0.3351 - precision: 0.5976 - val_loss: 1.7623 - val_accuracy: 0.2778 - val_precision: 0.5703\n",
      "Epoch 21/25\n",
      "629/629 [==============================] - ETA: 0s - loss: 1.6739 - accuracy: 0.3333 - precision: 0.5785\n",
      "Epoch 21: val_loss did not improve from 1.74860\n",
      "\n",
      "Epoch 21: val_accuracy did not improve from 0.30144\n",
      "629/629 [==============================] - 123s 195ms/step - loss: 1.6739 - accuracy: 0.3333 - precision: 0.5785 - val_loss: 1.7803 - val_accuracy: 0.2768 - val_precision: 0.5519\n",
      "Epoch 22/25\n",
      "629/629 [==============================] - ETA: 0s - loss: 1.6645 - accuracy: 0.3400 - precision: 0.5970\n",
      "Epoch 22: val_loss did not improve from 1.74860\n",
      "\n",
      "Epoch 22: val_accuracy did not improve from 0.30144\n",
      "629/629 [==============================] - 128s 204ms/step - loss: 1.6645 - accuracy: 0.3400 - precision: 0.5970 - val_loss: 1.8043 - val_accuracy: 0.2596 - val_precision: 0.5260\n",
      "Epoch 23/25\n",
      "629/629 [==============================] - ETA: 0s - loss: 1.6600 - accuracy: 0.3369 - precision: 0.6042\n",
      "Epoch 23: val_loss did not improve from 1.74860\n",
      "\n",
      "Epoch 23: val_accuracy did not improve from 0.30144\n",
      "629/629 [==============================] - 123s 195ms/step - loss: 1.6600 - accuracy: 0.3369 - precision: 0.6042 - val_loss: 1.8003 - val_accuracy: 0.2378 - val_precision: 0.5078\n",
      "Epoch 24/25\n",
      "629/629 [==============================] - ETA: 0s - loss: 1.6655 - accuracy: 0.3382 - precision: 0.6007\n",
      "Epoch 24: val_loss did not improve from 1.74860\n",
      "\n",
      "Epoch 24: val_accuracy did not improve from 0.30144\n",
      "629/629 [==============================] - 117s 187ms/step - loss: 1.6655 - accuracy: 0.3382 - precision: 0.6007 - val_loss: 1.7865 - val_accuracy: 0.2931 - val_precision: 0.5205\n",
      "Epoch 25/25\n",
      "629/629 [==============================] - ETA: 0s - loss: 1.6560 - accuracy: 0.3417 - precision: 0.5975\n",
      "Epoch 25: val_loss did not improve from 1.74860\n",
      "\n",
      "Epoch 25: val_accuracy did not improve from 0.30144\n",
      "629/629 [==============================] - 124s 198ms/step - loss: 1.6560 - accuracy: 0.3417 - precision: 0.5975 - val_loss: 1.8392 - val_accuracy: 0.2322 - val_precision: 0.4465\n"
     ]
    }
   ],
   "source": [
    "H = model.fit(train_ds,\n",
    "                  validation_data=val_ds,\n",
    "                  epochs=epochs,\n",
    "                  verbose=1,\n",
    "                  callbacks=callbacks_list\n",
    "                  )\n",
    "\n"
   ]
  },
  {
   "cell_type": "code",
   "execution_count": 34,
   "metadata": {},
   "outputs": [],
   "source": [
    "report = H.history"
   ]
  },
  {
   "cell_type": "code",
   "execution_count": 35,
   "metadata": {},
   "outputs": [],
   "source": [
    "report = pd.DataFrame(report)"
   ]
  },
  {
   "cell_type": "code",
   "execution_count": null,
   "metadata": {},
   "outputs": [],
   "source": [
    "report"
   ]
  },
  {
   "cell_type": "code",
   "execution_count": 36,
   "metadata": {},
   "outputs": [],
   "source": [
    "report.to_csv(\"report-9.csv\")"
   ]
  },
  {
   "cell_type": "code",
   "execution_count": null,
   "metadata": {},
   "outputs": [],
   "source": [
    "plt.figure(figsize=(8, 6))\n",
    "plt.plot(H.history['loss'], label='Training Loss')\n",
    "plt.plot(H.history['val_loss'], label='Validation Loss')\n",
    "plt.title('Training and Validation Losses')\n",
    "plt.xlabel('Epoch')\n",
    "plt.ylabel('Loss')\n",
    "plt.legend()\n",
    "plt.show()"
   ]
  },
  {
   "cell_type": "code",
   "execution_count": null,
   "metadata": {},
   "outputs": [],
   "source": [
    "val_predictions = model.predict(val_ds)\n",
    "val_true_labels = []\n",
    "for images, labels in val_ds:\n",
    "    val_true_labels.extend(tf.argmax(labels, axis=1).numpy())\n",
    "\n",
    "val_pred_labels = tf.argmax(val_predictions, axis=1).numpy()\n"
   ]
  },
  {
   "cell_type": "code",
   "execution_count": null,
   "metadata": {},
   "outputs": [],
   "source": [
    "from sklearn.metrics import confusion_matrix, classification_report\n",
    "import seaborn as sns\n",
    "\n",
    "cm = confusion_matrix(val_true_labels, val_pred_labels)\n",
    "plt.figure(figsize=(6, 6))\n",
    "sns.heatmap(cm, annot=True, fmt='d', cmap='Blues')\n",
    "plt.xlabel('Predicted')\n",
    "plt.ylabel('Actual')\n",
    "plt.title('Confusion Matrix')\n",
    "plt.show()"
   ]
  }
 ],
 "metadata": {
  "kernelspec": {
   "display_name": "Python 3",
   "language": "python",
   "name": "python3"
  },
  "language_info": {
   "codemirror_mode": {
    "name": "ipython",
    "version": 3
   },
   "file_extension": ".py",
   "mimetype": "text/x-python",
   "name": "python",
   "nbconvert_exporter": "python",
   "pygments_lexer": "ipython3",
   "version": "3.10.7"
  }
 },
 "nbformat": 4,
 "nbformat_minor": 2
}
